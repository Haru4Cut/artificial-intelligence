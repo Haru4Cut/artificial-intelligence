{
 "cells": [
  {
   "cell_type": "code",
   "execution_count": 7,
   "metadata": {},
   "outputs": [
    {
     "name": "stdout",
     "output_type": "stream",
     "text": [
      "{'code': -401, 'msg': 'kapi: invalid token'}\n"
     ]
    }
   ],
   "source": [
    "# REST API 호출, 이미지 파일 처리에 필요한 라이브러리\n",
    "import requests\n",
    "import json\n",
    "import io\n",
    "import base64\n",
    "from PIL import Image\n",
    "\n",
    "# [내 애플리케이션] > [앱 키] 에서 확인한 REST API 키 값 입력\n",
    "REST_API_KEY = \"dd89255cc7f13563e49b25343f4288a6\"\n",
    "\n",
    "# 이미지 생성하기 요청\n",
    "def t2i(text, batch_size=1):\n",
    "    r = requests.post(\n",
    "        'https://api.kakaobrain.com/v1/inference/karlo/t2i',\n",
    "        json = {\n",
    "            'prompt': {\n",
    "                'text': text,\n",
    "                'batch_size': batch_size\n",
    "            }\n",
    "        },\n",
    "        headers = {\n",
    "            'Authorization': f'KakaoAK {REST_API_KEY}',\n",
    "            'Content-Type': 'application/json'\n",
    "        }\n",
    "    )\n",
    "    # 응답 JSON 형식으로 변환\n",
    "    response = json.loads(r.content)\n",
    "    return response\n",
    "\n",
    "# Base64 디코딩 및 변환\n",
    "def stringToImage(base64_string, mode='RGBA'):\n",
    "    imgdata = base64.b64decode(str(base64_string))\n",
    "    img = Image.open(io.BytesIO(imgdata)).convert(mode)\n",
    "    return img\n",
    "\n",
    "# 프롬프트에 사용할 제시어\n",
    "text = \"simple oil painting drawing, back view of a girl and a Bichon Frise on the green field, blue sky view, minimal, intricately detailed, well-composed, wide angle, ultra high definition, ultra wide angle\"\n",
    "\n",
    "# 이미지 생성하기 REST API 호출\n",
    "response = t2i(text, 1)\n",
    "print(response)\n",
    "# # 응답의 첫 번째 이미지 생성 결과 출력하기\n",
    "# result = stringToImage(response.get(\"images\")[0].get(\"image\"), mode='RGB')\n",
    "# result.show()"
   ]
  },
  {
   "cell_type": "code",
   "execution_count": null,
   "metadata": {},
   "outputs": [],
   "source": []
  }
 ],
 "metadata": {
  "kernelspec": {
   "display_name": "Python 3.9.12 ('base')",
   "language": "python",
   "name": "python3"
  },
  "language_info": {
   "codemirror_mode": {
    "name": "ipython",
    "version": 3
   },
   "file_extension": ".py",
   "mimetype": "text/x-python",
   "name": "python",
   "nbconvert_exporter": "python",
   "pygments_lexer": "ipython3",
   "version": "3.9.12"
  },
  "orig_nbformat": 4,
  "vscode": {
   "interpreter": {
    "hash": "b193996061ee41736895ec4839a8ef52e190113cb8620e6feb1dc2ac39d1c326"
   }
  }
 },
 "nbformat": 4,
 "nbformat_minor": 2
}
